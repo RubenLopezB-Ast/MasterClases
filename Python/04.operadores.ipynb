{
 "cells": [
  {
   "cell_type": "markdown",
   "id": "562af299",
   "metadata": {},
   "source": [
    "Operadores Aritmétios"
   ]
  },
  {
   "cell_type": "code",
   "execution_count": 3,
   "id": "948cefdd",
   "metadata": {},
   "outputs": [
    {
     "name": "stdout",
     "output_type": "stream",
     "text": [
      "15\n",
      "5\n",
      "50\n",
      "2.0\n",
      "2\n",
      "0\n",
      "100000\n"
     ]
    }
   ],
   "source": [
    "# Operador de asignación\n",
    "a = 10\n",
    "b = 5\n",
    "\n",
    "resultado = a + b\n",
    "\n",
    "# Suma\n",
    "print (a + b)\n",
    "# Resta\n",
    "print (a - b)\n",
    "# Multiplicación\n",
    "print(a*b)\n",
    "# División - float\n",
    "print(a/b)\n",
    "# División entera - integer\n",
    "print(a//b)\n",
    "# Módulo\n",
    "print(a%b)\n",
    "# Potencia\n",
    "print(a**b)"
   ]
  },
  {
   "cell_type": "markdown",
   "id": "9a4446c2",
   "metadata": {},
   "source": [
    "Concatenaciones"
   ]
  },
  {
   "cell_type": "code",
   "execution_count": 1,
   "id": "b57ed2fa",
   "metadata": {},
   "outputs": [
    {
     "name": "stdout",
     "output_type": "stream",
     "text": [
      "Hola Byron\n",
      "Byron tiene 5 años\n"
     ]
    }
   ],
   "source": [
    "saludo = \"Hola\"\n",
    "nombre = \"Byron\"\n",
    "mensaje = saludo + \" \" + nombre\n",
    "print(mensaje)\n",
    "\n",
    "#Parsear o Castear a String\n",
    "edad = 5\n",
    "segundo_mensaje = nombre + \" tiene \" + str(edad) + \" años\"\n",
    "print(segundo_mensaje)"
   ]
  },
  {
   "cell_type": "markdown",
   "id": "4b164ff9",
   "metadata": {},
   "source": [
    "Operadores lógicos"
   ]
  },
  {
   "cell_type": "code",
   "execution_count": 4,
   "id": "1c391c1a",
   "metadata": {},
   "outputs": [
    {
     "name": "stdout",
     "output_type": "stream",
     "text": [
      "False\n",
      "True\n",
      "False\n",
      "True\n",
      "True\n",
      "False\n"
     ]
    }
   ],
   "source": [
    "x = 10\n",
    "y = 20\n",
    "\n",
    "# Igual que \n",
    "print (x == y)\n",
    "# Distinto que\n",
    "print(x !=y)\n",
    "# Mayor o igual que\n",
    "print(x >= y)\n",
    "# Menor o igual que \n",
    "print(x <= y)\n",
    "# Menor \n",
    "print(x<y)\n",
    "# Mayor \n",
    "print(x>y)\n"
   ]
  },
  {
   "cell_type": "markdown",
   "id": "a519a832",
   "metadata": {},
   "source": [
    "Operadores de comparación o lógicos -> and y or"
   ]
  },
  {
   "cell_type": "code",
   "execution_count": null,
   "id": "a203acc0",
   "metadata": {},
   "outputs": [],
   "source": [
    "nota = 7\n",
    "asistencia = 0.8 # 80%\n",
    "\n",
    "aprobado = (nota >= 5) and (asistencia >= 0,7)\n",
    "print(aprobado)"
   ]
  },
  {
   "cell_type": "markdown",
   "id": "15769e48",
   "metadata": {},
   "source": [
    "Operadores de Operación y asignación"
   ]
  },
  {
   "cell_type": "code",
   "execution_count": 5,
   "id": "97649b16",
   "metadata": {},
   "outputs": [
    {
     "name": "stdout",
     "output_type": "stream",
     "text": [
      "15\n"
     ]
    }
   ],
   "source": [
    "numero = 10\n",
    "# numero = numero + 5\n",
    "numero +=5\n",
    "print(numero)\n"
   ]
  }
 ],
 "metadata": {
  "kernelspec": {
   "display_name": "Python 3",
   "language": "python",
   "name": "python3"
  },
  "language_info": {
   "codemirror_mode": {
    "name": "ipython",
    "version": 3
   },
   "file_extension": ".py",
   "mimetype": "text/x-python",
   "name": "python",
   "nbconvert_exporter": "python",
   "pygments_lexer": "ipython3",
   "version": "3.12.6"
  }
 },
 "nbformat": 4,
 "nbformat_minor": 5
}
