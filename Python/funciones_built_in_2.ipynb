{
 "cells": [
  {
   "cell_type": "markdown",
   "id": "800b64ea",
   "metadata": {},
   "source": [
    "Ejemplos de funciones built in 2"
   ]
  },
  {
   "cell_type": "code",
   "execution_count": null,
   "id": "83b524d5",
   "metadata": {},
   "outputs": [
    {
     "name": "stdout",
     "output_type": "stream",
     "text": [
      "0\n",
      "1\n",
      "2\n"
     ]
    }
   ],
   "source": [
    "# range\n",
    "for n in range(3):\n",
    "    print(n)\n",
    "\n"
   ]
  },
  {
   "cell_type": "code",
   "execution_count": 3,
   "id": "4f0c29fc",
   "metadata": {},
   "outputs": [
    {
     "name": "stdout",
     "output_type": "stream",
     "text": [
      "1\n",
      "2\n",
      "3\n",
      "4\n",
      "5\n"
     ]
    }
   ],
   "source": [
    "for n in range(1, 6):\n",
    "    print(n)"
   ]
  },
  {
   "cell_type": "code",
   "execution_count": 4,
   "id": "51ea3eae",
   "metadata": {},
   "outputs": [
    {
     "name": "stdout",
     "output_type": "stream",
     "text": [
      "0\n",
      "1\n",
      "2\n",
      "3\n",
      "4\n",
      "5\n",
      "6\n",
      "7\n",
      "8\n",
      "9\n"
     ]
    }
   ],
   "source": [
    "for n in range (0,10,):\n",
    "    print(n)"
   ]
  },
  {
   "cell_type": "code",
   "execution_count": null,
   "id": "438a9fd8",
   "metadata": {},
   "outputs": [],
   "source": [
    "for n in range(5, 0, -1):\n",
    "    print(n)"
   ]
  },
  {
   "cell_type": "code",
   "execution_count": 5,
   "id": "ef5b1414",
   "metadata": {},
   "outputs": [
    {
     "name": "stdout",
     "output_type": "stream",
     "text": [
      "[1, 3, 5, 7, 9, 11, 13, 15, 17, 19, 21, 23, 25, 27, 29, 31, 33, 35, 37, 39, 41, 43, 45, 47, 49, 51, 53, 55, 57, 59, 61, 63, 65, 67, 69, 71, 73, 75, 77, 79, 81, 83, 85, 87, 89, 91, 93, 95, 97, 99]\n"
     ]
    }
   ],
   "source": [
    "lista_numeros = []\n",
    "for n in range(1, 100, 2):\n",
    "    lista_numeros.append(n)\n",
    "\n",
    "print(lista_numeros)"
   ]
  },
  {
   "cell_type": "code",
   "execution_count": 6,
   "id": "29eda639",
   "metadata": {},
   "outputs": [
    {
     "name": "stdout",
     "output_type": "stream",
     "text": [
      "En la posición 0 se encuentra la fruta ['manzana', 'platano', 'pera', 'mandarina', 'naranja']\n",
      "En la posición 1 se encuentra la fruta ['manzana', 'platano', 'pera', 'mandarina', 'naranja']\n",
      "En la posición 2 se encuentra la fruta ['manzana', 'platano', 'pera', 'mandarina', 'naranja']\n",
      "En la posición 3 se encuentra la fruta ['manzana', 'platano', 'pera', 'mandarina', 'naranja']\n",
      "En la posición 4 se encuentra la fruta ['manzana', 'platano', 'pera', 'mandarina', 'naranja']\n"
     ]
    }
   ],
   "source": [
    "#enumerate -> indice y valor juntos\n",
    "frutas = [\"manzana\",\"platano\",\"pera\", \"mandarina\", \"naranja\"]\n",
    "\n",
    "for indice, fruta in enumerate(frutas):\n",
    "    print(f\"En la posición {indice} se encuentra la fruta {frutas}\")\n",
    "    \n"
   ]
  },
  {
   "cell_type": "code",
   "execution_count": 16,
   "id": "7f44c974",
   "metadata": {},
   "outputs": [
    {
     "name": "stdout",
     "output_type": "stream",
     "text": [
      "En la posición 1 se encuentra la fruta naranja\n",
      "En la posición 2 se encuentra la fruta naranja\n",
      "En la posición 3 se encuentra la fruta naranja\n",
      "En la posición 4 se encuentra la fruta naranja\n",
      "En la posición 5 se encuentra la fruta naranja\n"
     ]
    }
   ],
   "source": [
    "frutas = [\"manzana\",\"platano\",\"pera\", \"mandarina\", \"naranja\"]\n",
    "for i, furta in enumerate(frutas,start=1):\n",
    "    print(f\"En la posición {i} se encuentra la fruta {fruta}\")"
   ]
  },
  {
   "cell_type": "code",
   "execution_count": 13,
   "id": "f02ab627",
   "metadata": {},
   "outputs": [
    {
     "name": "stdout",
     "output_type": "stream",
     "text": [
      "0:P\n",
      "1:r\n",
      "2:o\n",
      "3:g\n",
      "4:r\n",
      "5:a\n",
      "6:m\n",
      "7:a\n",
      "8:c\n",
      "9:i\n",
      "10:ó\n",
      "11:n\n"
     ]
    }
   ],
   "source": [
    "palabra = \"Programación\"\n",
    "for indice, caracter in enumerate(palabra):\n",
    "    print(f\"{indice}:{caracter}\")"
   ]
  },
  {
   "cell_type": "code",
   "execution_count": 17,
   "id": "8d68d666",
   "metadata": {},
   "outputs": [
    {
     "name": "stdout",
     "output_type": "stream",
     "text": [
      "Jorege tiene de nota un 7\n",
      "Manuel tiene de nota un 6\n",
      "Pedro tiene de nota un 8\n",
      "Ricardo tiene de nota un 9\n",
      "Eva tiene de nota un 5\n"
     ]
    }
   ],
   "source": [
    "#zip -> recorre varios iterables a la par y genera tuplas emparejando ambas\n",
    "alumnos = [\"Jorege\",\"Manuel\",\"Pedro\",\"Ricardo\",\"Eva\"]\n",
    "notas = [7,6,8,9,5]\n",
    "\n",
    "for alumno, nota in zip(alumnos,notas):\n",
    "    print(f\"{alumno} tiene de nota un {nota}\")"
   ]
  },
  {
   "cell_type": "code",
   "execution_count": 18,
   "id": "dd12b84b",
   "metadata": {},
   "outputs": [
    {
     "name": "stdout",
     "output_type": "stream",
     "text": [
      "{'Jorege': 7, 'Manuel': 5, 'Pedro': 6, 'Ricardo': 8}\n"
     ]
    }
   ],
   "source": [
    "alumnos = [\"Jorege\",\"Manuel\",\"Pedro\",\"Ricardo\",\"Eva\"]\n",
    "notas = [7,5,6,8]\n",
    "boletin = dict(zip(alumnos, notas))\n",
    "print(boletin)"
   ]
  },
  {
   "cell_type": "code",
   "execution_count": null,
   "id": "965844e1",
   "metadata": {},
   "outputs": [
    {
     "name": "stdout",
     "output_type": "stream",
     "text": [
      "8.2\n"
     ]
    },
    {
     "ename": "",
     "evalue": "",
     "output_type": "error",
     "traceback": [
      "\u001b[1;31mThe Kernel crashed while executing code in the current cell or a previous cell. \n",
      "\u001b[1;31mPlease review the code in the cell(s) to identify a possible cause of the failure. \n",
      "\u001b[1;31mClick <a href='https://aka.ms/vscodeJupyterKernelCrash'>here</a> for more info. \n",
      "\u001b[1;31mView Jupyter <a href='command:jupyter.viewOutput'>log</a> for further details."
     ]
    }
   ],
   "source": [
    "componentes = [\"Examen\", \"Proyecto\", \"Asitencia\"]\n",
    "pesos = [0.6,0.3,0.1]\n",
    "notas = [8, 9, 7]\n",
    "\n",
    "total = sum(peso * nota for peso, nota in zip(pesos, notas))\n",
    "print(total)"
   ]
  }
 ],
 "metadata": {
  "kernelspec": {
   "display_name": "Python 3",
   "language": "python",
   "name": "python3"
  },
  "language_info": {
   "codemirror_mode": {
    "name": "ipython",
    "version": 3
   },
   "file_extension": ".py",
   "mimetype": "text/x-python",
   "name": "python",
   "nbconvert_exporter": "python",
   "pygments_lexer": "ipython3",
   "version": "3.12.6"
  }
 },
 "nbformat": 4,
 "nbformat_minor": 5
}
