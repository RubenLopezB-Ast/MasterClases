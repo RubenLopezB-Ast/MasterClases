{
 "cells": [
  {
   "cell_type": "markdown",
   "id": "128286b8",
   "metadata": {},
   "source": [
    "Control Flow"
   ]
  },
  {
   "cell_type": "code",
   "execution_count": null,
   "id": "deabf9a2",
   "metadata": {},
   "outputs": [
    {
     "name": "stdout",
     "output_type": "stream",
     "text": [
      "10\n",
      "25\n",
      "1\n",
      "3\n",
      "Encontrado\n"
     ]
    }
   ],
   "source": [
    "# break -> salir del bucle / termina el bucle\n",
    "# continue -> rompo la vuelta actual pero continuo con las siguientes\n",
    "# pass -> no hacer nda (solo ocupo sitio)\n",
    "# else -> se ejecuta en el caso en el qe terminamos un bucle sin forzarlo con break \n",
    "\n",
    "numeros = [2,4,4,5,6]\n",
    "suma = 0 \n",
    "for n in numeros:\n",
    "    if(n% 2 !=0): # Sí es impar\n",
    "        break\n",
    "    suma += n\n",
    "\n",
    "print(suma)\n",
    "\n",
    "# Continue\n",
    "suma_impares = 0\n",
    "for n in range(1, 11):\n",
    "    if(n%2 ==0):\n",
    "        continue # si es par, salto a la siguiente vuelta\n",
    "    suma_impares += n\n",
    "print(suma_impares)\n",
    "\n",
    "# pass\n",
    "for n in [1,2,3]:\n",
    "    if(n == 2):\n",
    "        pass # Luego decidiré que hacer en este caso en el que se cumple la condición\n",
    "    else:\n",
    "        print(n)\n",
    "\n",
    "#else\n",
    "nombres = [\"Leire\", \"Eva\",\"Laura\",\"Almudena\"]\n",
    "\n",
    "for nombre in nombres:\n",
    "    if(nombre == \"Julio\"): # cambiar nombre a ver si encuentra o nopara que salga el bule\n",
    "        print(\"Encontrado\")\n",
    "        break\n",
    "else:\n",
    "    print(\"No encontrado el nombre\") "
   ]
  }
 ],
 "metadata": {
  "kernelspec": {
   "display_name": "Python 3",
   "language": "python",
   "name": "python3"
  },
  "language_info": {
   "codemirror_mode": {
    "name": "ipython",
    "version": 3
   },
   "file_extension": ".py",
   "mimetype": "text/x-python",
   "name": "python",
   "nbconvert_exporter": "python",
   "pygments_lexer": "ipython3",
   "version": "3.12.6"
  }
 },
 "nbformat": 4,
 "nbformat_minor": 5
}
