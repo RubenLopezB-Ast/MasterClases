{
 "cells": [
  {
   "cell_type": "markdown",
   "id": "694f7258",
   "metadata": {},
   "source": [
    "Variables"
   ]
  },
  {
   "cell_type": "code",
   "execution_count": 2,
   "id": "512fe367",
   "metadata": {},
   "outputs": [
    {
     "name": "stdout",
     "output_type": "stream",
     "text": [
      "5\n",
      "4\n"
     ]
    }
   ],
   "source": [
    "variable = 5\n",
    "print(variable)\n",
    "variable = 4\n",
    "print(variable)"
   ]
  },
  {
   "cell_type": "markdown",
   "id": "cb4e5944",
   "metadata": {},
   "source": [
    "## Tipos de datos.\n",
    "### Numeros"
   ]
  },
  {
   "cell_type": "code",
   "execution_count": null,
   "id": "139c14a4",
   "metadata": {},
   "outputs": [],
   "source": [
    "#int \n",
    "age = 18\n",
    "\n",
    "# float\n",
    "price = 10.25\n",
    "\n",
    "# complex (números complejos)\n",
    "complejo = 2 + 4j"
   ]
  },
  {
   "cell_type": "markdown",
   "id": "5829d50e",
   "metadata": {},
   "source": [
    "### String\n"
   ]
  },
  {
   "cell_type": "code",
   "execution_count": null,
   "id": "58266225",
   "metadata": {},
   "outputs": [
    {
     "name": "stdout",
     "output_type": "stream",
     "text": [
      "Como dijo el Ché:\"Prefiero morir de pie que vivir de rodillas\"\n",
      "\n",
      "Este es un string\n",
      "que se muestra \n",
      "en varias \n",
      "lineas\n",
      "\n",
      "Buenas tardes a \n",
      "' todos'\n"
     ]
    }
   ],
   "source": [
    "nombre = \"Rubén\"\n",
    "nombre = 'Rubén'\n",
    "frase = 'Como dijo el Ché:\"Prefiero morir de pie que vivir de rodillas\"'\n",
    "print(frase)\n",
    "varias_lineas = '''\n",
    "Este es un string\n",
    "que se muestra \n",
    "en varias \n",
    "lineas\n",
    "'''\n",
    "print(varias_lineas)\n",
    "\n",
    "caracter_de_escape = \"Buenas tardes a \\n'todos\\'\"\n",
    "print(caracter_de_escape)"
   ]
  },
  {
   "cell_type": "markdown",
   "id": "2d4bcd2d",
   "metadata": {},
   "source": [
    "### Booleanos"
   ]
  },
  {
   "cell_type": "code",
   "execution_count": null,
   "id": "8a6897b7",
   "metadata": {},
   "outputs": [],
   "source": [
    "aprobado = True\n",
    "matriculado = False"
   ]
  },
  {
   "cell_type": "markdown",
   "id": "e6590402",
   "metadata": {},
   "source": [
    "### None"
   ]
  },
  {
   "cell_type": "code",
   "execution_count": null,
   "id": "0dfcd614",
   "metadata": {},
   "outputs": [],
   "source": [
    "usuario = None"
   ]
  },
  {
   "cell_type": "markdown",
   "id": "ad69baf5",
   "metadata": {},
   "source": [
    "### Type\n",
    "## Imprime el tipo de dato que es."
   ]
  },
  {
   "cell_type": "code",
   "execution_count": 15,
   "id": "237aacd8",
   "metadata": {},
   "outputs": [
    {
     "name": "stdout",
     "output_type": "stream",
     "text": [
      "<class 'int'>\n",
      "<class 'NoneType'>\n",
      "<class 'str'>\n",
      "<class 'complex'>\n",
      "<class 'bool'>\n",
      "<class 'bool'>\n"
     ]
    }
   ],
   "source": [
    "age = 42\n",
    "print(type(age))\n",
    "users = None\n",
    "print(type(users))\n",
    "name = \"Manolin\"\n",
    "print(type(name))\n",
    "numer_complejo = 5 + 9j\n",
    "print(type(numer_complejo))\n",
    "ej_bool = False\n",
    "print(type(ej_bool))\n",
    "ej2_bool = True\n",
    "print(type(ej2_bool))"
   ]
  },
  {
   "cell_type": "markdown",
   "id": "4b3d8fe7",
   "metadata": {},
   "source": [
    "### Len\n",
    "#### Es un método para calcular longitudes (incluye los espacios vacios)"
   ]
  },
  {
   "cell_type": "code",
   "execution_count": 18,
   "id": "7bba7d96",
   "metadata": {},
   "outputs": [
    {
     "name": "stdout",
     "output_type": "stream",
     "text": [
      "17\n",
      "La longitud de la frase:\"Esto es una frase\" es: 17\n"
     ]
    }
   ],
   "source": [
    "ejemplo_string = \"Esto es una frase\"\n",
    "longitud_sring = len(ejemplo_string)\n",
    "print(longitud_sring)\n",
    "\n",
    "print(f'La longitud de la frase:\"{ejemplo_string}\" es: {len(ejemplo_string)}')"
   ]
  }
 ],
 "metadata": {
  "kernelspec": {
   "display_name": "Python 3",
   "language": "python",
   "name": "python3"
  },
  "language_info": {
   "codemirror_mode": {
    "name": "ipython",
    "version": 3
   },
   "file_extension": ".py",
   "mimetype": "text/x-python",
   "name": "python",
   "nbconvert_exporter": "python",
   "pygments_lexer": "ipython3",
   "version": "3.12.6"
  }
 },
 "nbformat": 4,
 "nbformat_minor": 5
}
