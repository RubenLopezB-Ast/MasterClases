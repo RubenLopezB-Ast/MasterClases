{
 "cells": [
  {
   "cell_type": "markdown",
   "id": "33d4eeb5",
   "metadata": {},
   "source": [
    "Tuplas"
   ]
  },
  {
   "cell_type": "code",
   "execution_count": 7,
   "id": "88a3ef86",
   "metadata": {},
   "outputs": [
    {
     "name": "stdout",
     "output_type": "stream",
     "text": [
      "['Mercedes-Bemz', 'Jeep', 'Audi', 1983]\n",
      "<class 'list'>\n",
      "['Seat', 'Volkswagen', 'Ebro']\n",
      "<class 'int'>\n",
      "<class 'tuple'>\n",
      "Superman\n",
      "Wonderman\n",
      "('Batman', 'Linterna verde', 'Wonderman')\n",
      "0\n",
      "1\n",
      "7\n",
      "2\n",
      "8\n"
     ]
    }
   ],
   "source": [
    "# Declaración\n",
    "ejemplo = [\"Mercedes-Bemz\", \"Jeep\", \"Audi\", 1983]\n",
    "print(ejemplo)\n",
    "print(type(ejemplo))\n",
    "# Inmutabilidad\n",
    "concesionario = [\"Seat\", \"Kia\", \"Ebro\"]\n",
    "concesionario[1] = (\"Volkswagen\")\n",
    "print(concesionario)\n",
    "\n",
    "'''conce_lux = (\"Auris\", \"Rolls&Roize\", \"Lamborgini\")\n",
    "print(conce_lux[0])\n",
    "conce_lux[1] = \"Talvo\"'''\n",
    "\n",
    "# Tipla con un elemento\n",
    "tupla_un_elemento = (30)\n",
    "print(type(tupla_un_elemento))\n",
    "tupla_un_elemento_correcto = (30,)\n",
    "print(type(tupla_un_elemento_correcto))\n",
    "\n",
    "#Indexacion\n",
    "liga_justicia = (\"Batman\", \"Superman\", \"Wonderman\")\n",
    "print(liga_justicia[1])\n",
    "print(liga_justicia[-1])\n",
    "\n",
    "#Saltarse la inmutabilidad\n",
    "lista_justicia_alt =  list(liga_justicia)\n",
    "lista_justicia_alt[1] = \"Linterna verde\"\n",
    "liga_justicia = tuple(lista_justicia_alt)\n",
    "print(liga_justicia)\n",
    "\n",
    "#Métodos\n",
    "numeros = (2,3,4,5,6,7,8)\n",
    "print(numeros.index(2))\n",
    "print(numeros.count(2))\n",
    "print(len(numeros))\n",
    "print(min(numeros))\n",
    "print(max(numeros))\n"
   ]
  },
  {
   "cell_type": "markdown",
   "id": "6b8f52f1",
   "metadata": {},
   "source": [
    "Tupla anidadas"
   ]
  },
  {
   "cell_type": "code",
   "execution_count": null,
   "id": "154a7e3a",
   "metadata": {},
   "outputs": [],
   "source": [
    "comics =(\n",
    "    (\"Marvel\", \"Spiderman\", \"Peter Parker\")\n",
    "    (\"DC\", \"Batman\",\"Bruce Wayne\")\n",
    ")\n",
    "\n",
    "print(comics[1][2])"
   ]
  },
  {
   "cell_type": "markdown",
   "id": "f6f0efad",
   "metadata": {},
   "source": [
    "Atajos"
   ]
  },
  {
   "cell_type": "code",
   "execution_count": null,
   "id": "82f4b2e9",
   "metadata": {},
   "outputs": [
    {
     "name": "stdout",
     "output_type": "stream",
     "text": [
      "1 2 3\n",
      "5 5 5\n",
      "1 2 3\n"
     ]
    },
    {
     "ename": "",
     "evalue": "",
     "output_type": "error",
     "traceback": [
      "\u001b[1;31mThe Kernel crashed while executing code in the current cell or a previous cell. \n",
      "\u001b[1;31mPlease review the code in the cell(s) to identify a possible cause of the failure. \n",
      "\u001b[1;31mClick <a href='https://aka.ms/vscodeJupyterKernelCrash'>here</a> for more info. \n",
      "\u001b[1;31mView Jupyter <a href='command:jupyter.viewOutput'>log</a> for further details."
     ]
    }
   ],
   "source": [
    "a, b, c =1,2,3\n",
    "print(a,b,c)\n",
    "\n",
    "x=y=z=5\n",
    "print(x,y,z)\n",
    "\n",
    "d= 1; e= 2; f=3; \n",
    "print(d,e,f)"
   ]
  }
 ],
 "metadata": {
  "kernelspec": {
   "display_name": "Python 3",
   "language": "python",
   "name": "python3"
  },
  "language_info": {
   "codemirror_mode": {
    "name": "ipython",
    "version": 3
   },
   "file_extension": ".py",
   "mimetype": "text/x-python",
   "name": "python",
   "nbconvert_exporter": "python",
   "pygments_lexer": "ipython3",
   "version": "3.12.6"
  }
 },
 "nbformat": 4,
 "nbformat_minor": 5
}
