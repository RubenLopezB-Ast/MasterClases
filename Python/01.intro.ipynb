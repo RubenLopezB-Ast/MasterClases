{
 "cells": [
  {
   "cell_type": "markdown",
   "id": "e9ca8f9c",
   "metadata": {},
   "source": [
    "# Este es mi primer script de Python\n",
    "---\n",
    "\n",
    "## Tecnologías utilizadas\n",
    "\n",
    "- Jupyter Notebook\n",
    "- Markdown\n",
    "- Python\n",
    "\n",
    "\n"
   ]
  },
  {
   "cell_type": "code",
   "execution_count": 1,
   "id": "80b3abf3",
   "metadata": {},
   "outputs": [
    {
     "name": "stdout",
     "output_type": "stream",
     "text": [
      "Hola amiguitos!\n"
     ]
    }
   ],
   "source": [
    "print(\"Hola amiguitos!\")"
   ]
  },
  {
   "cell_type": "code",
   "execution_count": 2,
   "id": "d6f1c107",
   "metadata": {},
   "outputs": [
    {
     "name": "stdout",
     "output_type": "stream",
     "text": [
      "Prueba hora con las exensiones a ver que tal va?\n"
     ]
    }
   ],
   "source": [
    "print(\"Prueba hora con las exensiones a ver que tal va?\")"
   ]
  },
  {
   "cell_type": "markdown",
   "id": "29d09de1",
   "metadata": {},
   "source": [
    "##Esta es mi segunda ejecución con Python y Jupyter Notebook"
   ]
  },
  {
   "cell_type": "code",
   "execution_count": 3,
   "id": "5aa80951",
   "metadata": {},
   "outputs": [
    {
     "name": "stdout",
     "output_type": "stream",
     "text": [
      "Bye bye\n"
     ]
    }
   ],
   "source": [
    "print(\"Bye bye\")"
   ]
  },
  {
   "cell_type": "code",
   "execution_count": null,
   "id": "3e82657e",
   "metadata": {},
   "outputs": [],
   "source": []
  }
 ],
 "metadata": {
  "kernelspec": {
   "display_name": "Python 3",
   "language": "python",
   "name": "python3"
  },
  "language_info": {
   "codemirror_mode": {
    "name": "ipython",
    "version": 3
   },
   "file_extension": ".py",
   "mimetype": "text/x-python",
   "name": "python",
   "nbconvert_exporter": "python",
   "pygments_lexer": "ipython3",
   "version": "3.12.6"
  }
 },
 "nbformat": 4,
 "nbformat_minor": 5
}
