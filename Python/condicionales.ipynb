{
 "cells": [
  {
   "cell_type": "markdown",
   "id": "47307672",
   "metadata": {},
   "source": [
    "Condicionales"
   ]
  },
  {
   "cell_type": "code",
   "execution_count": null,
   "id": "0401e09e",
   "metadata": {},
   "outputs": [],
   "source": [
    "# if condicion:\n",
    "    # bloque de ejecución o bloque de código\n",
    "\n",
    "espectadores = 10\n",
    "if espectadores > 0:\n",
    "    print(\"Abrimos la sala de cine\")"
   ]
  },
  {
   "cell_type": "code",
   "execution_count": null,
   "id": "a523973d",
   "metadata": {},
   "outputs": [
    {
     "name": "stdout",
     "output_type": "stream",
     "text": [
      "La sala se queda cerrada\n"
     ]
    }
   ],
   "source": [
    "espectadores = 10\n",
    "if espectadores > 0:\n",
    "    print(\"Abrimos la sala de cine\")\n",
    "else:\n",
    "    print(\"La sala se queda cerrada\")"
   ]
  },
  {
   "cell_type": "code",
   "execution_count": null,
   "id": "ac5211c4",
   "metadata": {},
   "outputs": [
    {
     "name": "stdout",
     "output_type": "stream",
     "text": [
      "Obra maestra\n"
     ]
    }
   ],
   "source": [
    "puntuacion = 10\n",
    "if puntuacion >=9:\n",
    "    print(\"Obra maestra\")\n",
    "elif puntuacion >= 7:\n",
    "    print(\"Muy buena\")\n",
    "elif puntuacion >= 5:\n",
    "    print(\"Aceptable\")\n",
    "else:\n",
    "    print(\"Floja\")"
   ]
  },
  {
   "cell_type": "code",
   "execution_count": 9,
   "id": "829ca10d",
   "metadata": {},
   "outputs": [
    {
     "name": "stdout",
     "output_type": "stream",
     "text": [
      "Sesion especial de tarde\n"
     ]
    }
   ],
   "source": [
    "dia = \"viernes\"\n",
    "hora = 17\n",
    "\n",
    "if dia == \"viernes\" and hora >=15:\n",
    "    print(\"Sesion especial de tarde\")\n",
    "elif dia == \"sabado\" or dia == \"domingo\":\n",
    "    print(\"Es fin de semana, sesiones todo el dia\")\n",
    "else:\n",
    "    print(\"Horario de semana normal\")"
   ]
  },
  {
   "cell_type": "code",
   "execution_count": 12,
   "id": "91761fe9",
   "metadata": {},
   "outputs": [
    {
     "name": "stdout",
     "output_type": "stream",
     "text": [
      "Jugador 2 gana - J1  - J2 piedra\n"
     ]
    }
   ],
   "source": [
    "import random\n",
    "\n",
    "opciones = [\"piedra\", \"papel\", \"tijera\"]\n",
    "\n",
    "jugador1 = input(\"Jugador 1: piedra - papel - tijera\")\n",
    "jugador2 = random.choice(opciones)\n",
    "\n",
    "if(jugador1 == \"piedra\" and jugador2 == \"tijera\"):\n",
    "    print(f\"Jugador 1 gana - J1 {jugador1} - J2 {jugador2}\")\n",
    "elif(jugador1 == \"papel\" and jugador2 == \"piedra\"):\n",
    "    print(f\"Jugador 1 gana - J1 {jugador1} - J2 {jugador2}\")\n",
    "elif(jugador1 == \"tijera\" and jugador2 == \"papel\"):\n",
    "    print(f\"Jugador 1 gana - J1 {jugador1} - J2 {jugador2}\")\n",
    "elif(jugador1 == jugador2):\n",
    "    print(f\"Empate - J1 {jugador1} - J2 {jugador2}\")\n",
    "else:\n",
    "    print(f\"Jugador 2 gana - J1 {jugador1} - J2 {jugador2}\")"
   ]
  }
 ],
 "metadata": {
  "kernelspec": {
   "display_name": "Python 3",
   "language": "python",
   "name": "python3"
  },
  "language_info": {
   "codemirror_mode": {
    "name": "ipython",
    "version": 3
   },
   "file_extension": ".py",
   "mimetype": "text/x-python",
   "name": "python",
   "nbconvert_exporter": "python",
   "pygments_lexer": "ipython3",
   "version": "3.12.6"
  }
 },
 "nbformat": 4,
 "nbformat_minor": 5
}
