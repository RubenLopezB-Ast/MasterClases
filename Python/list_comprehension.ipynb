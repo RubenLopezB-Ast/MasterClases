{
 "cells": [
  {
   "cell_type": "markdown",
   "id": "e7bb26d7",
   "metadata": {},
   "source": [
    "List Comprehension"
   ]
  },
  {
   "cell_type": "code",
   "execution_count": null,
   "id": "9f1ed334",
   "metadata": {},
   "outputs": [],
   "source": [
    "# nueva_lista = [lo_que_guardo for elemento in iterable]"
   ]
  },
  {
   "cell_type": "code",
   "execution_count": 3,
   "id": "1eef1267",
   "metadata": {},
   "outputs": [
    {
     "name": "stdout",
     "output_type": "stream",
     "text": [
      "[0, 1, 2, 3, 4]\n"
     ]
    }
   ],
   "source": [
    "nums = []\n",
    "for num in range(5):\n",
    "    nums.append(num)\n",
    "\n",
    "print(nums)"
   ]
  },
  {
   "cell_type": "code",
   "execution_count": 2,
   "id": "3e563566",
   "metadata": {},
   "outputs": [
    {
     "name": "stdout",
     "output_type": "stream",
     "text": [
      "[0, 1, 2, 3, 4]\n"
     ]
    }
   ],
   "source": [
    "nums = [num for num in range (5)]\n",
    "print(nums)"
   ]
  },
  {
   "cell_type": "code",
   "execution_count": null,
   "id": "04dc412d",
   "metadata": {},
   "outputs": [
    {
     "name": "stdout",
     "output_type": "stream",
     "text": [
      "[0, 1, 2, 3, 4]\n",
      "[0, 1, 4, 9, 16, 25, 36, 49]\n",
      "[0, 2, 4, 6, 8]\n",
      "['par', 'impar', 'par', 'impar', 'par', 'impar', 'par', 'impar', 'par', 'impar']\n"
     ]
    }
   ],
   "source": [
    "nums = [num for num in range(5)]\n",
    "print(nums)\n",
    "\n",
    "numscuadrados = [num * num for num in  range(8)]\n",
    "print(numscuadrados)\n",
    "\n",
    "pares = [num for num in range(10) if num % 2 == 0]\n",
    "print(pares)\n",
    "\n",
    "\n",
    "etiquetas = [\"par\" if num % 2 == 0 else \"impar\" for num in range(10)]\n",
    "print(etiquetas)"
   ]
  }
 ],
 "metadata": {
  "kernelspec": {
   "display_name": "Python 3",
   "language": "python",
   "name": "python3"
  },
  "language_info": {
   "codemirror_mode": {
    "name": "ipython",
    "version": 3
   },
   "file_extension": ".py",
   "mimetype": "text/x-python",
   "name": "python",
   "nbconvert_exporter": "python",
   "pygments_lexer": "ipython3",
   "version": "3.12.6"
  }
 },
 "nbformat": 4,
 "nbformat_minor": 5
}
