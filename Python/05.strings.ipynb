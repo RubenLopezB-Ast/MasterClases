{
 "cells": [
  {
   "cell_type": "markdown",
   "id": "85ae395b",
   "metadata": {},
   "source": [
    "Indexacion de strings"
   ]
  },
  {
   "cell_type": "code",
   "execution_count": 1,
   "id": "26079089",
   "metadata": {},
   "outputs": [
    {
     "name": "stdout",
     "output_type": "stream",
     "text": [
      "P\n",
      "r\n",
      "o\n",
      "P\n"
     ]
    }
   ],
   "source": [
    "palabra = \"Perro\"\n",
    "#Indices positivos\n",
    "print(palabra[0])\n",
    "print(palabra[3])\n",
    "#Indices negativos\n",
    "print(palabra[-1])\n",
    "print(palabra[-5])"
   ]
  },
  {
   "cell_type": "markdown",
   "id": "8f36f82f",
   "metadata": {},
   "source": [
    "Rangos de identación"
   ]
  },
  {
   "cell_type": "code",
   "execution_count": 13,
   "id": "2e8e572d",
   "metadata": {},
   "outputs": [
    {
     "name": "stdout",
     "output_type": "stream",
     "text": [
      "oog\n",
      "Goog\n",
      "Meets\n",
      "Gol\n",
      "star wars\n",
      "STAR WARS\n",
      "El Caballero Oscuro\n",
      "El caballero oscuro\n",
      "Cantando bajo la lluvia\n",
      "  Cantando bajo la luna  \n",
      "11\n",
      "Perro ,Gato ,Loro ,Ciervo\n"
     ]
    }
   ],
   "source": [
    "#string[start:stop:step]\n",
    "texto = \"Google Meets\"\n",
    "print(texto[1:4])\n",
    "print(texto[:4])\n",
    "print(texto[7:])\n",
    "print(texto[0:6:2]) # Step es el último número y dice los saltos que dá\n",
    "\n",
    "pelicula = \"Star Wars\"\n",
    "print(pelicula.lower())\n",
    "print(pelicula.upper())\n",
    "\n",
    "pelicula= \"el caballero oscuro\"\n",
    "print(pelicula.title())\n",
    "print(pelicula.capitalize())\n",
    "\n",
    "pelicula=\"  Cantando bajo la lluvia  \"\n",
    "print(pelicula.strip())\n",
    "print(pelicula.replace(\"lluvia\", \"luna\"))\n",
    "print(pelicula.find(\"bajo\"))\n",
    "\n",
    "lista = [\"Perro\", \"Gato\", \"Loro\", \"Ciervo\"]\n",
    "print(\" ,\".join(lista))\n"
   ]
  }
 ],
 "metadata": {
  "kernelspec": {
   "display_name": "Python 3",
   "language": "python",
   "name": "python3"
  },
  "language_info": {
   "codemirror_mode": {
    "name": "ipython",
    "version": 3
   },
   "file_extension": ".py",
   "mimetype": "text/x-python",
   "name": "python",
   "nbconvert_exporter": "python",
   "pygments_lexer": "ipython3",
   "version": "3.12.6"
  }
 },
 "nbformat": 4,
 "nbformat_minor": 5
}
