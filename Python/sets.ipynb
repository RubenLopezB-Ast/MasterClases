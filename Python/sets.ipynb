{
 "cells": [
  {
   "cell_type": "markdown",
   "id": "00126643",
   "metadata": {},
   "source": [
    "Sets"
   ]
  },
  {
   "cell_type": "code",
   "execution_count": 1,
   "id": "28bc0886",
   "metadata": {},
   "outputs": [
    {
     "name": "stdout",
     "output_type": "stream",
     "text": [
      "{'Forrest Gump', 'Titanic', 'El Padrino', 'Casablanca', 'Gladiator'}\n",
      "{'Linterna Verde', 'Superman', 'Batman'}\n"
     ]
    }
   ],
   "source": [
    "# No admite duplicados -> Titanic\n",
    "clasicos ={\"Casablanca\", \"Titanic\", \"Forrest Gump\", \"El Padrino\", \"Gladiator\", \"Titanic\"}\n",
    "scifi ={\"Matrix\", \"Interstellar\", \"Inception\", \"Titanic\", \"Avatar\"}\n",
    "animation = {\"Up\", \"Coco\", \"Toy Sotry\", \"Sherck\", \"Avatar\"}\n",
    "print(clasicos)\n",
    "\n",
    "# Crear colección medante lista o tupla\n",
    "superheroes = (\"Batman\", \"Superman\", \"Batman\", \"Linterna Verde\")\n",
    "set_superheroes = set(superheroes)\n",
    "print(set_superheroes)"
   ]
  },
  {
   "cell_type": "code",
   "execution_count": null,
   "id": "a72503af",
   "metadata": {},
   "outputs": [
    {
     "name": "stdout",
     "output_type": "stream",
     "text": [
      "Pliculas clásicas:  5\n",
      "<built-in method copy of set object at 0x000001AD3BAB34C0>\n",
      "{'Forrest Gump', 'Titanic', 'Jurassic Park', 'El Padrino', 'Casablanca', 'Gladiator'}\n",
      "{'Interstellar', 'Titanic', 'Inception', 'Avatar', 'Matrix'}\n",
      "Shreck\n",
      "{'Coco', 'Up', 'Avatar', 'Toy Story'}\n"
     ]
    }
   ],
   "source": [
    "#len\n",
    "clasicos ={\"Casablanca\", \"Titanic\", \"Forrest Gump\", \"El Padrino\", \"Gladiator\", \"Titanic\"}\n",
    "print(\"Pliculas clásicas: \", len(clasicos))\n",
    "\n",
    "#copy\n",
    "copia_clasicos = clasicos.copy\n",
    "print(copia_clasicos)\n",
    "\n",
    "#add\n",
    "clasicos.add(\"Jurassic Park\")\n",
    "print(clasicos)\n",
    "\n",
    "#update\n",
    "nuevo_scifi = []\n",
    "scifi = {\"Matrix\", \"Interstellar\", \"Inception\", \"Titanic\", \"Avatar\"}\n",
    "scifi.update(nuevo_scifi)\n",
    "print(scifi)\n",
    "\n",
    "#pop\n",
    "animation ={\"Up\", \"Coco\", \"Toy Story\", \"Shreck\", \"Avatar\"}\n",
    "print(animation.pop())\n",
    "print(animation)\n",
    "\n",
    "#remove\n",
    "animation.remove(\"Coco\")\n",
    "print(animation)\n",
    "\n",
    "#discard\n",
    "animation.discard(\"Coco\")\n",
    "\n",
    "#clear\n",
    "#Elimina por completo el set y lo deja vacio"
   ]
  },
  {
   "cell_type": "code",
   "execution_count": 8,
   "id": "68f8b126",
   "metadata": {},
   "outputs": [
    {
     "name": "stdout",
     "output_type": "stream",
     "text": [
      "{'Forrest Gump', 'Titanic', 'Interstellar', 'El Padrino', 'Avatar', 'Casablanca', 'Matrix', 'Inception', 'Gladiator'}\n",
      "{'Titanic'}\n",
      "{'Gladiator', 'Casablanca', 'Forrest Gump', 'El Padrino'}\n",
      "{'Casablanca', 'Inception', 'Gladiator', 'Interstellar', 'Forrest Gump', 'El Padrino', 'Avatar', 'Matrix'}\n",
      "¿Clásicos y animación tienen películas únicas?: True\n",
      "True\n",
      "True\n"
     ]
    }
   ],
   "source": [
    "clasicos ={\"Casablanca\", \"Titanic\", \"Forrest Gump\", \"El Padrino\", \"Gladiator\", \"Titanic\"}\n",
    "scifi ={\"Matrix\", \"Interstellar\", \"Inception\", \"Titanic\", \"Avatar\"}\n",
    "animation = {\"Up\", \"Coco\", \"Toy Sotry\", \"Sherck\", \"Avatar\"}\n",
    "\n",
    "# Union\n",
    "clasicos_con_scifi = clasicos.union(scifi)\n",
    "print(clasicos_con_scifi)\n",
    "\n",
    "#clasicos_con_scifi = clasicos | scifi\n",
    "#print(clasicos_con_scifi)\n",
    "\n",
    "#Intersección \n",
    "clasicos_con_scifi_intersecction = clasicos.intersection(scifi)\n",
    "print(clasicos_con_scifi_intersecction)\n",
    "\n",
    "#clasicos_con_scifi_intersecction = clasicos & scifi\n",
    "\n",
    "#Diference\n",
    "solo_clasicos = clasicos.difference(scifi)\n",
    "print(solo_clasicos)\n",
    "\n",
    "#Symetric difference\n",
    "unicas = clasicos.symmetric_difference(scifi)\n",
    "#unicas = clasicos ^ scifi\n",
    "print(unicas)\n",
    "\n",
    "#isdisjoint()\n",
    "clasicos = {\"Casablanca\", \"Titanic\", \"Forrest Gump\", \"El Padrino\", \"Gladiator\", \"Titanic\", \"Matrix\"}\n",
    "scifi ={\"Matrix\", \"Interstellar\", \"Inception\", \"Titanic\", \"Avatar\"}\n",
    "animation = {\"Up\", \"Coco\", \"Toy Sotry\", \"Sherck\", \"Avatar\"}\n",
    "print(\"¿Clásicos y animación tienen películas únicas?:\", clasicos.isdisjoint(animation))\n",
    "\n",
    "#Comprobación de conjuntos dentro de conjuntos\n",
    "set_de_películas = {\"Casablanca\", \"Matrix\"}\n",
    "print(set_de_películas.issubset(clasicos))\n",
    "print(clasicos.issuperset(set_de_películas))"
   ]
  }
 ],
 "metadata": {
  "kernelspec": {
   "display_name": "Python 3",
   "language": "python",
   "name": "python3"
  },
  "language_info": {
   "codemirror_mode": {
    "name": "ipython",
    "version": 3
   },
   "file_extension": ".py",
   "mimetype": "text/x-python",
   "name": "python",
   "nbconvert_exporter": "python",
   "pygments_lexer": "ipython3",
   "version": "3.12.6"
  }
 },
 "nbformat": 4,
 "nbformat_minor": 5
}
