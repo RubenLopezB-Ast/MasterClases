{
 "cells": [
  {
   "cell_type": "markdown",
   "id": "e8e7a42b",
   "metadata": {},
   "source": [
    "Listas"
   ]
  },
  {
   "cell_type": "code",
   "execution_count": 4,
   "id": "9741be4e",
   "metadata": {},
   "outputs": [
    {
     "name": "stdout",
     "output_type": "stream",
     "text": [
      "['Iron man', 'Spiderman', 'Hulk', 42, True]\n",
      "Iron man\n",
      "5\n"
     ]
    }
   ],
   "source": [
    "lista = [\"Iron man\",\"Spiderman\",\"Hulk\",42,True]\n",
    "print(lista)\n",
    "print(lista[0])\n",
    "print(len(lista))"
   ]
  },
  {
   "cell_type": "markdown",
   "id": "6865a109",
   "metadata": {},
   "source": [
    "Listas anidadas"
   ]
  },
  {
   "cell_type": "code",
   "execution_count": 10,
   "id": "719314b8",
   "metadata": {},
   "outputs": [
    {
     "name": "stdout",
     "output_type": "stream",
     "text": [
      "Spiderman\n"
     ]
    }
   ],
   "source": [
    "marvel = [\n",
    "    [\"Cilcope\", \"Wolverine\", \"Fenix\"],\n",
    "    [\"Iron Man\", \"Spiderman\", \"Ojo de al Halcón\"],\n",
    "    [\"Dardevil\", \"Punisher\", \"Elektra\"]\n",
    "]\n",
    "\n",
    "print(marvel[1][1])"
   ]
  },
  {
   "cell_type": "markdown",
   "id": "50fef247",
   "metadata": {},
   "source": [
    "Métodos"
   ]
  },
  {
   "cell_type": "code",
   "execution_count": 19,
   "id": "890fee9c",
   "metadata": {},
   "outputs": [
    {
     "name": "stdout",
     "output_type": "stream",
     "text": [
      "['C', 'í', 'c', 'l', 'o', 'p', 'e']\n",
      "['Gozilla', 'Ciclope']\n",
      "['Spiderman', 'Gozilla', 'Manolín']\n",
      "-223\n",
      "76665\n",
      "['Batman', 'Ciclope', 'Gozilla', 'Manolín', 'Spiderman', 'Super López']\n",
      "['Spiderman', 'Batman', 'Gozilla', 'Ciclope', 'Manolín', 'Super López']\n",
      "['Batman', 'Ciclope', 'Gozilla', 'Manolín', 'Spiderman', 'Super López']\n",
      "['Batman', 'Ciclope', 'Gozilla', 'Manolín', 'Spiderman', 'Super López']\n",
      "2\n",
      "['Fernando', 'Daniel', 'Marisa', 'Elisa', 'Daniel', 'Eduardo']\n",
      "['Rocket', 'Groot', 'Star-Lord', 'Gamora']\n",
      "['Rocket', 'Groot', 'Star-Lord', 'Gamora', 'Drax', 'Nébula']\n",
      "2\n",
      "['Drax', 'Gamora', 'Groot', 'Groot', 'Nébula', 'Rocket', 'Star-Lord']\n",
      "['Drax', 'Gamora', 'Groot', 'Nébula', 'Rocket', 'Star-Lord']\n",
      "['Star-Lord', 'Rocket', 'Nébula', 'Groot', 'Gamora', 'Drax']\n"
     ]
    }
   ],
   "source": [
    "##Convertir string a lista\n",
    "nombre = \"Cíclope\"\n",
    "nombre_en_lista = list(nombre)\n",
    "print(nombre_en_lista)\n",
    "\n",
    "##Rangos de indexacion - [strar:end:step]\n",
    "heroes = [\"Spiderman\", \"Batman\",\"Gozilla\",\"Ciclope\",\"Manolín\",\"Super López\"]\n",
    "print(heroes[2:4])\n",
    "print(heroes[::2])\n",
    "\n",
    "##Min y Max\n",
    "numeros = [1,2,300,4,5,5,67,8,8,999,97,76665,4,-223]\n",
    "print(min(numeros))\n",
    "print(max(numeros))\n",
    "\n",
    "##Ordenar lista\n",
    "##Sorted - Retorna una lista ordenada alfabéticamente\n",
    "##Sort- Ordena alfabéticamente la lista original\n",
    "heroes = [\"Spiderman\", \"Batman\",\"Gozilla\",\"Ciclope\",\"Manolín\",\"Super López\"]\n",
    "print(sorted(heroes))\n",
    "print(heroes)\n",
    "heroes.sort()\n",
    "print(heroes)\n",
    "\n",
    "##Copy - Realizar una copia de una lista\n",
    "nuevos_heroes = heroes.copy()\n",
    "print(nuevos_heroes)\n",
    "\n",
    "##Count - Cuenta cuantas veces aparec un elemento en una lista\n",
    "alumnos = [\"Eduardo\", \"Daniel\", \"Elisa\", \"Marisa\", \"Daniel\", \"Fernando\"]\n",
    "print(alumnos.count(\"Daniel\"))\n",
    "\n",
    "##Reverse - Invertimos el orden de la lista\n",
    "alumnos.reverse()\n",
    "print(alumnos)\n",
    "\n",
    "##Métodos para añadir y eliminar\n",
    "\n",
    "guardianes =[\"Rocket\", \"Groot\",\"Star-Lord\"]\n",
    "#Queremos que se una Gamora\n",
    "guardianes.append(\"Gamora\")\n",
    "print(guardianes)\n",
    "\n",
    "#Vamos a añadir a Drax y Nébula\n",
    "guardianes.extend([\"Drax\",\"Nébula\"])\n",
    "print(guardianes)\n",
    "\n",
    "# Accidentalmente añadimos otro Groot\n",
    "guardianes.append(\"Groot\")\n",
    "print(guardianes.count(\"Groot\"))\n",
    "\n",
    "#Ordenamos algabéticamente la lista\n",
    "guardianes.sort()\n",
    "print(guardianes)\n",
    "\n",
    "#Eliminamos el primer Groot que nos encontramos en la lista\n",
    "guardianes.remove(\"Groot\")\n",
    "print(guardianes)\n",
    "\n",
    "# Le damos la vuelta a la lista entera\n",
    "guardianes.reverse()\n",
    "print(guardianes)"
   ]
  },
  {
   "cell_type": "code",
   "execution_count": null,
   "id": "16427570",
   "metadata": {},
   "outputs": [],
   "source": []
  }
 ],
 "metadata": {
  "kernelspec": {
   "display_name": "Python 3",
   "language": "python",
   "name": "python3"
  },
  "language_info": {
   "codemirror_mode": {
    "name": "ipython",
    "version": 3
   },
   "file_extension": ".py",
   "mimetype": "text/x-python",
   "name": "python",
   "nbconvert_exporter": "python",
   "pygments_lexer": "ipython3",
   "version": "3.12.6"
  }
 },
 "nbformat": 4,
 "nbformat_minor": 5
}
