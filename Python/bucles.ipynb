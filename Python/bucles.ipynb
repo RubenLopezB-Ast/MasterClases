{
 "cells": [
  {
   "cell_type": "markdown",
   "id": "343d5eb6",
   "metadata": {},
   "source": [
    "Bucles"
   ]
  },
  {
   "cell_type": "code",
   "execution_count": null,
   "id": "12cbd1b5",
   "metadata": {},
   "outputs": [
    {
     "name": "stdout",
     "output_type": "stream",
     "text": [
      "Hoy es lunes\n",
      "Hoy es martes\n",
      "Hoy es miercoles\n",
      "Hoy es jueves\n",
      "Hoy es sabado\n",
      "Hoy es domingo\n"
     ]
    }
   ],
   "source": [
    "dia_semana = [\"lunes\", \"martes\", \"miercoles\",\"jueves\", \"sabado\", \"domingo\"]\n",
    "\n",
    "for dia in dia_semana:\n",
    "    print(f\"Hoy es {dia}\")\n",
    "    "
   ]
  },
  {
   "cell_type": "code",
   "execution_count": 3,
   "id": "0366b835",
   "metadata": {},
   "outputs": [
    {
     "name": "stdout",
     "output_type": "stream",
     "text": [
      "['LUNES', 'MARTES', 'MIERCOLES', 'JUEVES', 'SABADO', 'DOMINGO']\n"
     ]
    }
   ],
   "source": [
    "dia_semana = [\"lunes\", \"martes\", \"miercoles\",\"jueves\", \"sabado\", \"domingo\"]\n",
    "dias_semana_mayus = []\n",
    "\n",
    "for dia in dia_semana:\n",
    "    dias_semana_mayus.append(dia.upper())\n",
    "\n",
    "print(dias_semana_mayus)"
   ]
  },
  {
   "cell_type": "code",
   "execution_count": 4,
   "id": "7f1c07e6",
   "metadata": {},
   "outputs": [
    {
     "name": "stdout",
     "output_type": "stream",
     "text": [
      "1\n",
      "4\n",
      "5\n",
      "8\n",
      "9\n"
     ]
    }
   ],
   "source": [
    "numeros = [1,2,3,4,5,6,7,8,9,10]\n",
    "\n",
    "for num in numeros:\n",
    "    if num & 2 == 0:\n",
    "        print(num)"
   ]
  },
  {
   "cell_type": "code",
   "execution_count": 5,
   "id": "c810ac20",
   "metadata": {},
   "outputs": [
    {
     "name": "stdout",
     "output_type": "stream",
     "text": [
      "0\n",
      "1\n",
      "2\n"
     ]
    }
   ],
   "source": [
    "colores = [\"rojo\", \"verde\", \"azul\"]\n",
    "\n",
    "for i in range (len(colores)):\n",
    "    print(i)"
   ]
  },
  {
   "cell_type": "code",
   "execution_count": 10,
   "id": "8d74f29a",
   "metadata": {},
   "outputs": [
    {
     "name": "stdout",
     "output_type": "stream",
     "text": [
      "('ciencia ficción', 'acción', 'drama', 'fantasía')\n",
      "fantasía\n"
     ]
    }
   ],
   "source": [
    "categorias =(\"ciencia ficción\", \"acción\", \"drama\", \"fantasía\")\n",
    "categorias_lista = []\n",
    "\n",
    "for categoria in categorias:\n",
    "    categorias_lista.append(categoria)\n",
    "    \n",
    "print(categorias)\n",
    "print(categoria)"
   ]
  },
  {
   "cell_type": "code",
   "execution_count": 16,
   "id": "e9ec9a0d",
   "metadata": {},
   "outputs": [
    {
     "name": "stdout",
     "output_type": "stream",
     "text": [
      "titulo\n",
      "year\n",
      "director\n",
      "duration\n",
      "titulo\n",
      "year\n",
      "director\n",
      "duration\n",
      "The Batman\n",
      "2022\n",
      "Matt Reeves\n",
      "190\n",
      "dict_items([('titulo', 'The Batman'), ('year', 2022), ('director', 'Matt Reeves'), ('duration', 190)])\n",
      "La clave titulo tiene el valor The Batman.\n",
      "La clave year tiene el valor 2022.\n",
      "La clave director tiene el valor Matt Reeves.\n",
      "La clave duration tiene el valor 190.\n"
     ]
    }
   ],
   "source": [
    "pelicula = {\n",
    "    \"titulo\": \"The Batman\",\n",
    "    \"year\": 2022,\n",
    "    \"director\": \"Matt Reeves\",\n",
    "    \"duration\": 190\n",
    "}\n",
    "\n",
    "for p in pelicula:\n",
    "    print(p)\n",
    "\n",
    "for key in pelicula:\n",
    "    print(key)\n",
    "\n",
    "for value in pelicula.values():\n",
    "    print(value)\n",
    "\n",
    "## Podemos declarar en un bucle varios valores en estructuras diferentes\n",
    "print(pelicula.items())\n",
    "\n",
    "for clave, valor in pelicula.items():\n",
    "    print(f\"La clave {clave} tiene el valor {valor}.\")"
   ]
  },
  {
   "cell_type": "code",
   "execution_count": 19,
   "id": "2967daea",
   "metadata": {},
   "outputs": [
    {
     "name": "stdout",
     "output_type": "stream",
     "text": [
      "La estación primavera tiene la posición 0\n",
      "La estación verano tiene la posición 1\n",
      "La estación otoño tiene la posición 2\n",
      "La estación invierno tiene la posición 3\n"
     ]
    }
   ],
   "source": [
    "estaciones = [\"primavera\", \"verano\", \"otoño\", \"invierno\"]\n",
    "\n",
    "for i, estacion in enumerate(estaciones):\n",
    "    print(f\"La estación {estacion} tiene la posición {i}\")\n"
   ]
  }
 ],
 "metadata": {
  "kernelspec": {
   "display_name": "Python 3",
   "language": "python",
   "name": "python3"
  },
  "language_info": {
   "codemirror_mode": {
    "name": "ipython",
    "version": 3
   },
   "file_extension": ".py",
   "mimetype": "text/x-python",
   "name": "python",
   "nbconvert_exporter": "python",
   "pygments_lexer": "ipython3",
   "version": "3.12.6"
  }
 },
 "nbformat": 4,
 "nbformat_minor": 5
}
